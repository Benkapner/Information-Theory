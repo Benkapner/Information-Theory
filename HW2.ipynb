{
 "cells": [
  {
   "cell_type": "markdown",
   "id": "49eaf30b",
   "metadata": {},
   "source": [
    "##### Introduction to Information Theory (Fall 2023/4)\n",
    "\n",
    "# Home Assignment 2\n",
    "\n",
    "#### Topics:\n",
    "- Lossless compression"
   ]
  },
  {
   "cell_type": "markdown",
   "id": "e8a3d406",
   "metadata": {},
   "source": [
    "### 1. Mismatch in Variable Length Coding and Distribution Divergence\n",
    "(there are two items in this question)\n",
    "\n",
    "In the class we proved the following results on the expected length $L$ of any prefix free code applied to a set of symbols sampled independently from a distribution $P_X$.\n",
    "$$\n",
    "H(X) \\leq \\ex{L} \\leq H(X)+1.\n",
    "$$\n",
    "Recall that the code attaining expected length $\\leq H(X)+1$ assigns $\\lceil -\\log P_X(x) \\rceil$ bits to the symbol $x \\in \\Xcal$. \n",
    "Suppose now we design this code to symbols from a distribution $Q_X \\neq P_X$. \n",
    "- Show that the expected length is bounded from above by\n",
    "$$\n",
    "H(P_X|| Q_X) := -\\mathbb E_{X \\sim P_X}[{\\log[Q_X(X)]}] = -\\sum_{x \\in \\Xcal} P_X(x) \\log Q_X(x) =  -\\sum_{x \\in \\Xcal} p(x) \\log q(x)\n",
    "$$\n",
    "By doing so, you will prove that for any PMF $Q$ on $\\Xcal$ there exists a prefix-free code $f$ such that for any PMF $P$ on $\\Xcal$ the average code length for encoding symbols satisfies\n",
    "$$\n",
    "\\mathbb E_{X \\sim P}[{len(f(X))}] \\leq H(P||Q) + 1\n",
    "$$\n",
    "\n",
    "*Note:* $H(P||Q)$ is called the **cross entropy** of $Q$ under $P$, and we have $H(P||Q) = H(P) + D(P||Q)$ where \n",
    "$$\n",
    "D(P||Q) := -\\sum_{x\\in \\Xcal} p(x) \\log \\frac{q(x)}{p(x)},\n",
    "$$\n",
    "is the **relative entropy** or the **Kullback-Leibler divergence** between $P$ to $Q$.\n",
    "\n",
    "- Prove that $D(P||Q) \\geq 0$, hence mismatch necessarily increases the expected length. *Hint:* Use that $\\ln(x) \\leq x - 1$, for $x\\geq 0$. "
   ]
  },
  {
   "cell_type": "markdown",
   "id": "c9901cb6",
   "metadata": {},
   "source": [
    "#### <span style=\"color: LIGHTgreen;\">Answer</span>"
   ]
  },
  {
   "cell_type": "markdown",
   "id": "f72e89ce",
   "metadata": {},
   "source": [
    "\n",
    "#### 1)\n",
    "The expected length is bounded by the Kullback-Leibler divergence between\n",
    "$P_X$ and $Q_X$.\n",
    "\n",
    "Now\n",
    "$$\n",
    "H(P||Q) = -\\sum_{x\\in \\Xcal} P_X(x)\\log Q_X(x)\n",
    "$$\n",
    "\n",
    "Using Kullback-Leibler divergence:\n",
    "\n",
    "$$\n",
    "E(L) = -\\sum_{x\\in \\Xcal} P_X(x) \\log (\\frac{Q_X(x)}{P_X(x)})\n",
    "$$\n",
    "$$\n",
    "E(L) = -\\sum_{x\\in \\Xcal} P_X(x) \\log Q_X(x) + \\sum_{x\\in \\Xcal} P_X(x) \\log P_X(x)\n",
    "$$\n",
    "\n",
    "Using the entropy $H(P_X)$:\n",
    "$$\n",
    "-\\sum_{x\\in \\Xcal} P_X(x) \\log Q_X(x) + H(P_X)\n",
    "$$\n",
    "\n",
    "And $H(P_X) \\leq  \\log(x)$ because of jensen inequality\n",
    "\n",
    "$$\n",
    "-\\sum_{x\\in \\Xcal} P_X(x) \\log Q_X(x) + \\log(x)\n",
    "$$\n",
    "\n",
    "### 2)\n",
    "\n",
    "Now using:\n",
    "$$\n",
    "D(P||Q) = -\\sum_{x\\in \\Xcal} p(x) \\log \\frac{q(x)}{p(x)},\n",
    "$$\n",
    "Using the hint:\n",
    "\n",
    "$$\n",
    "- \\log (\\frac{q(x)}{p(x)}) = \\log (\\frac{p(x)}{q(x)}) \\leq \\frac{p(x)}{q(x)} - 1\n",
    "$$\n",
    "\n",
    "$$\n",
    "D(P||Q) \\geq - \\sum_{x\\in \\Xcal} P(x)\\frac{p(x)}{q(x)} + \\sum_{x\\in \\Xcal} P(x)\n",
    "$$\n",
    "Now:\n",
    "\n",
    "\n",
    "$$\n",
    "E_P(\\frac{p(x)}{q(x)}) = P(x)\\frac{p(x)}{q(x)} \\geq 1\n",
    "$$\n",
    "\n",
    "$$\n",
    "D(P||Q) \\geq -1 + \\sum_{x\\in \\Xcal} p(x)\n",
    "$$\n",
    "\n",
    "$$\n",
    "D(P||Q) \\geq -1 + 1\n",
    "$$\n",
    "\n",
    "Hence:\n",
    "\n",
    "$$\n",
    "D(P||Q) \\geq 0\n",
    "$$"
   ]
  },
  {
   "cell_type": "markdown",
   "id": "d030bc73",
   "metadata": {},
   "source": [
    "### 2. Huffman Coding and Alphabet Tensorization\n",
    "\n",
    "In this exercise you will compress a random binary string sampled from a binary source using a Huffman code. Every symbol consists of $k$ consecutive binary digits stacked together.\n",
    "1. Complete the code prototype for compression based on the Huffman code: \n",
    "    - Write a function that receives as an input a set of symbols and their probabilities and returns the Huffman code of each symbol. \n",
    "    - Write a function that compresses (encodes) a list of binary words (symbols) using the code. \n",
    "    - Write a function that decompress the encoded string given the compressed string and the code. \n",
    "\n",
    "2. Generate a Huffman code for length-$k$ binary words sampled from $ Bernulli^k(p)$ ($k$ independent samples from $ Bernulli(p)$). Use $p=0.2$.\n",
    "    - What is the expected code length when $k=2,3,4,5,6,7,8$?\n",
    "    - What is the expected code length as $k \\to \\infty$ (use the analytic expression)?\n",
    "\n",
    "3. Sample a binary string from $ Bernulli(p)$ of length $n = 2^{10}$ using the provided function (do not change the seed). Encode the string using the code you created in (2) for $k=2,3,4,5,6,7,8$. What is the actual length of the code for every $k$? Compare this to the expected code length in (2) and to the expected length as $k \\to \\infty$."
   ]
  },
  {
   "cell_type": "code",
   "execution_count": 1,
   "id": "ca654590",
   "metadata": {},
   "outputs": [],
   "source": [
    "SEED = 42\n",
    "\n",
    "def sample_n_times_from_Bernuolli(n: int, p: float, seed = SEED) -> list:\n",
    "    \"\"\"\n",
    "    Sample from Bernoulli distribution with parameter p\n",
    "    \"\"\"\n",
    "    assert 0 <= p <= 1\n",
    "    assert n > 0\n",
    "    import random\n",
    "    random.seed(seed)\n",
    "    return [int(random.random() < p) for _ in range(n)]"
   ]
  },
  {
   "cell_type": "markdown",
   "id": "b1c6ee40",
   "metadata": {},
   "source": [
    "#### <span style=\"color: LIGHTgreen;\">Answer</span>\n",
    "#### 1) \n",
    "The steps to build a Huffman Tree are as follows:\n",
    "1. Create a leaf node for each unique character and build a min heap of all leaf nodes (Min Heap is used as a priority queue. The value of probability is used to compare two nodes in min heap. Initially, the least probable character is at root)\n",
    "2. Extract two nodes with the minimum probability from the min heap.\n",
    "3. Create a new internal node with a probability equal to the sum of the two nodes frequencies. Make the first extracted node as its left child and the other extracted node as its right child. Add this node to the min heap.\n",
    "4. Repeat steps 2 and 3 until the heap contains only one node. The remaining node is the root node and the tree is complete."
   ]
  },
  {
   "cell_type": "code",
   "execution_count": 2,
   "id": "35b39357",
   "metadata": {},
   "outputs": [],
   "source": [
    "import heapq\n",
    "from collections import defaultdict\n",
    "\n",
    "class Node:\n",
    "    def __init__(self, symbol, prob):\n",
    "        self.symbol = symbol\n",
    "        self.prob = prob\n",
    "        self.left = None\n",
    "        self.right = None\n",
    "\n",
    "    def __lt__(self, other):\n",
    "        return self.prob < other.prob\n",
    "\n",
    "def huffman_code(symbols_and_probabilities: dict) -> dict:\n",
    "    \"\"\"\n",
    "    >>> huffman_code({'A': 0.5, 'B': 0.3, 'C': 0.2})\n",
    "    {'A': '0', 'B': '10', 'C': '11'}\n",
    "\n",
    "    Args:\n",
    "        symbols_and_probabilities: dict with symbols and their probabilities\n",
    "    \n",
    "    Returns:\n",
    "        dict with symbols and their Huffman codes\n",
    "    \"\"\"\n",
    "\n",
    "    # Build Huffman tree\n",
    "    def build_tree(symbols_and_probabilities):\n",
    "        heap = [Node(s, p) for s, p in symbols_and_probabilities.items()]\n",
    "        heapq.heapify(heap)\n",
    "        while len(heap) > 1:\n",
    "            left = heapq.heappop(heap)\n",
    "            right = heapq.heappop(heap)\n",
    "            node = Node(None, left.prob + right.prob)\n",
    "            node.left = left\n",
    "            node.right = right\n",
    "            heapq.heappush(heap, node)\n",
    "        return heap[0]\n",
    "    \n",
    "    # Traverse Huffman tree\n",
    "    def traverse_tree(node, prefix, code):\n",
    "        if node.symbol:\n",
    "            code[node.symbol] = prefix\n",
    "        else:\n",
    "            traverse_tree(node.left, prefix + '0', code)\n",
    "            traverse_tree(node.right, prefix + '1', code)\n",
    "\n",
    "    # Create Huffman code\n",
    "    root = build_tree(symbols_and_probabilities)\n",
    "    code = {}\n",
    "    traverse_tree(root, '', code)\n",
    "    return code\n",
    "\n",
    "\n",
    "def encode_Huffman(data: list, code: dict) -> list:\n",
    "    \"\"\"\n",
    "    >>> encode_Huffman([0, 1, 0, 0, 1, 1, 0], {0: '0', 1: '1'})\n",
    "    '0100110'\n",
    "\n",
    "    Args:\n",
    "        data: list of symbols\n",
    "        code: dict with symbols and their Huffman codes\n",
    "    \n",
    "    Returns:\n",
    "        string with encoded data\n",
    "    \"\"\"\n",
    "\n",
    "    # Encode a list of symbols\n",
    "    return ''.join(code[symbol] for symbol in data)\n",
    "\n",
    "def decode_Huffman(encoded_data: list, code: dict) -> list:\n",
    "    \"\"\"\n",
    "    >>> decode_Huffman('0100110', {0: '0', 1: '1'})\n",
    "    [0, 1, 0, 0, 1, 1, 0]\n",
    "\n",
    "    Args:\n",
    "        encoded_data: string with encoded data\n",
    "        code: dict with symbols and their Huffman codes\n",
    "    \n",
    "    Returns:\n",
    "        list of symbols\n",
    "    \"\"\"\n",
    "\n",
    "    # Reverse Huffman code\n",
    "    reversed_code = {v: k for k, v in code.items()}\n",
    "    decoded_data = []\n",
    "    symbol = ''\n",
    "\n",
    "    # Decode an encoded string back to a list of symbols\n",
    "    for bit in encoded_data:\n",
    "        symbol += bit\n",
    "        if symbol in reversed_code:\n",
    "            decoded_data.append(reversed_code[symbol])\n",
    "            symbol = ''\n",
    "    return decoded_data"
   ]
  },
  {
   "cell_type": "markdown",
   "id": "25880459",
   "metadata": {},
   "source": [
    "We proceed to implement the function in an example to check that the functions are performing as expected."
   ]
  },
  {
   "cell_type": "code",
   "execution_count": 3,
   "id": "25c313c5",
   "metadata": {},
   "outputs": [
    {
     "name": "stdout",
     "output_type": "stream",
     "text": [
      "Huffman Codes: {'C': '00', 'D': '010', 'A': '011', 'B': '10', 'E': '11'}\n",
      "Encoded Message: 1110110001010011\n",
      "Decoded Message: ['E', 'B', 'E', 'C', 'D', 'B', 'A']\n",
      "Decoding Successful: True\n"
     ]
    }
   ],
   "source": [
    "# Define a set of symbols with their probabilities\n",
    "symbols_and_probabilities = {'A': 0.1, 'B': 0.3, 'C': 0.2, 'D': 0.1, 'E': 0.3}\n",
    "\n",
    "# Generate Huffman codes for the symbols\n",
    "huffman_codes = huffman_code(symbols_and_probabilities)\n",
    "print(\"Huffman Codes:\", huffman_codes)\n",
    "\n",
    "# Define a message using the symbols\n",
    "message = ['E', 'B', 'E', 'C', 'D', 'B', 'A']\n",
    "\n",
    "# Encode the message using the Huffman codes\n",
    "encoded_message = encode_Huffman(message, huffman_codes)\n",
    "print(\"Encoded Message:\", encoded_message)\n",
    "\n",
    "# Decode the encoded message back to symbols\n",
    "decoded_message = decode_Huffman(encoded_message, huffman_codes)\n",
    "print(\"Decoded Message:\", decoded_message)\n",
    "\n",
    "# Check if the decoded message matches the original message\n",
    "print(\"Decoding Successful:\", decoded_message == message)\n"
   ]
  },
  {
   "cell_type": "markdown",
   "id": "4a3596dd",
   "metadata": {},
   "source": [
    "#### 2)"
   ]
  },
  {
   "cell_type": "code",
   "execution_count": 4,
   "id": "2ac43af5",
   "metadata": {},
   "outputs": [
    {
     "name": "stdout",
     "output_type": "stream",
     "text": [
      " For k=2 the expected code length is 0.7800000000000002 bits\n",
      " For k=3 the expected code length is 0.7280000000000002 bits\n",
      " For k=4 the expected code length is 0.7408000000000002 bits\n",
      " For k=5 the expected code length is 0.7379199999999998 bits\n",
      " For k=6 the expected code length is 0.7252480000000001 bits\n",
      " For k=7 the expected code length is 0.7317558857142865 bits\n",
      " For k=8 the expected code length is 0.7322281599999974 bits\n"
     ]
    }
   ],
   "source": [
    "import itertools\n",
    "\n",
    "expected_lengths = {}\n",
    "\n",
    "# Calculate the probability of a word independently sampled from a Bernoulli distribution with probability p\n",
    "def calculate_probability(word, p):\n",
    "    return p**sum(word) * (1-p)**(len(word) - sum(word))\n",
    "\n",
    "# Calculate the expected code length\n",
    "def expected_code_length(code, probabilities):\n",
    "    return sum(len(code[word]) * prob for word, prob in probabilities.items())\n",
    "\n",
    "# Define the probability of a 1, probability of 0 is 1 - p\n",
    "p = 0.2\n",
    "\n",
    "# Calculate the expected code length for all possible length-k binary words\n",
    "for k in range(2, 9):\n",
    "    # 1. Generate all possible length-k binary words\n",
    "    words = list(itertools.product([0, 1], repeat=k))\n",
    "\n",
    "    # Calculate the probability of each word\n",
    "    probabilities = {''.join(map(str, word)): calculate_probability(word, p) for word in words}\n",
    "\n",
    "    # Generate Huffman codes\n",
    "    huffman_codes = huffman_code(probabilities)\n",
    "\n",
    "    # Calculate expected code length\n",
    "    expected_length = expected_code_length(huffman_codes, probabilities)/k\n",
    "\n",
    "    # Print the expected code length for length-k binary words with k in [2, 8]\n",
    "    print(f\" For k={k} the expected code length is {expected_length} bits\")\n",
    "\n",
    "    # Store the expected lengths of the encoded string\n",
    "    expected_lengths[k] = expected_length\n"
   ]
  },
  {
   "cell_type": "markdown",
   "id": "acb5a21b",
   "metadata": {},
   "source": [
    "As seen in the lectures, Shannon's source coding theorem for discrete memoryless sources (like Bernouilli process) states: $$H(x) \\leq \\bar{L} \\leq H(x)+1$$\n",
    "Which implies that the entropy represents the fundamental limit of compresibility given the probabilities of the symbols. The upper bound is meaningless in this case since we are dealing with a binary source (Bernouilli). Therefore, as the sequence length $k$ increases, the average code length per symbol gets closer to the entropy. Hence,\n",
    "$$H(p)=-plog(p)-(1-p)log(1-p)$$\n",
    "$$H(0.2)=-0.2log(0.2)-(0.8)log(0.8)=0.7219 bits$$\n",
    "Finally, as $k$ tends to infinity, the expected code length for $k$-length binary words smapled from a $Bernouilli^k(0.2)$ distribution will be close to 0.7219."
   ]
  },
  {
   "cell_type": "markdown",
   "id": "6177bee5",
   "metadata": {},
   "source": [
    "#### 3)"
   ]
  },
  {
   "cell_type": "code",
   "execution_count": 5,
   "id": "6ffa244d",
   "metadata": {},
   "outputs": [
    {
     "name": "stdout",
     "output_type": "stream",
     "text": [
      " For k=2 the actual code length is 0.755859375 bits\n",
      " For k=3 the actual code length is 0.6865234375 bits\n",
      " For k=4 the actual code length is 0.6943359375 bits\n",
      " For k=5 the actual code length is 0.6875 bits\n",
      " For k=6 the actual code length is 0.68359375 bits\n",
      " For k=7 the actual code length is 0.6943359375 bits\n",
      " For k=8 the actual code length is 0.6953125 bits\n"
     ]
    }
   ],
   "source": [
    "# Generate a binary string of length 2^10\n",
    "binary_string = sample_n_times_from_Bernuolli(2**10, 0.2, seed = SEED)\n",
    "\n",
    "# Encode and compare lengths for k = 2, 3, 4, 5, 6, 7, 8\n",
    "actual_lengths = {}\n",
    "\n",
    "for k in range(2, 9):\n",
    "\n",
    "    # Generate all possible length-k binary words\n",
    "    words = list(itertools.product([0, 1], repeat=k))\n",
    "\n",
    "    # Calculate the probability of each word\n",
    "    probabilities = {''.join(map(str, word)): calculate_probability(word, p) for word in words}\n",
    "\n",
    "    # Generate Huffman codes\n",
    "    huffman_codes = huffman_code(probabilities)\n",
    "\n",
    "    encoded_string = ''\n",
    "\n",
    "    # Encode the sampled string in chunks of size k\n",
    "    for i in range(0, len(binary_string), k):\n",
    "        chunk = binary_string[i:i+k]\n",
    "\n",
    "        # If the last chunk is smaller than k, pad it with 0s\n",
    "        if len(chunk) == k:\n",
    "            # Encode the chunk using the Huffman codes\n",
    "            encoded_string += huffman_codes[''.join(map(str, chunk))]\n",
    "\n",
    "\n",
    "    # Print the expected code length for length-k binary words with k in [2, 8]\n",
    "    # Divide the length of the encoded string by 1024 to normalize it based on the actual length of the original binary string 2^10=1024\n",
    "    print(f\" For k={k} the actual code length is {len(encoded_string)/1024} bits\")\n",
    "    # Store the actual length of the encoded string\n",
    "    actual_lengths[k] = len(encoded_string)/1024\n"
   ]
  },
  {
   "cell_type": "code",
   "execution_count": 6,
   "id": "07bceddb",
   "metadata": {},
   "outputs": [
    {
     "name": "stdout",
     "output_type": "stream",
     "text": [
      "For k=2\n",
      "The expected length of the code is: 0.7800000000000002\n",
      "The actual length of the code is: 0.755859375\n",
      "The difference between the expected and actual length is: 0.02414062500000025\n",
      "For k=3\n",
      "The expected length of the code is: 0.7280000000000002\n",
      "The actual length of the code is: 0.6865234375\n",
      "The difference between the expected and actual length is: 0.0414765625000002\n",
      "For k=4\n",
      "The expected length of the code is: 0.7408000000000002\n",
      "The actual length of the code is: 0.6943359375\n",
      "The difference between the expected and actual length is: 0.046464062500000236\n",
      "For k=5\n",
      "The expected length of the code is: 0.7379199999999998\n",
      "The actual length of the code is: 0.6875\n",
      "The difference between the expected and actual length is: 0.0504199999999998\n",
      "For k=6\n",
      "The expected length of the code is: 0.7252480000000001\n",
      "The actual length of the code is: 0.68359375\n",
      "The difference between the expected and actual length is: 0.041654250000000115\n",
      "For k=7\n",
      "The expected length of the code is: 0.7317558857142865\n",
      "The actual length of the code is: 0.6943359375\n",
      "The difference between the expected and actual length is: 0.037419948214286514\n",
      "For k=8\n",
      "The expected length of the code is: 0.7322281599999974\n",
      "The actual length of the code is: 0.6953125\n",
      "The difference between the expected and actual length is: 0.03691565999999735\n"
     ]
    }
   ],
   "source": [
    "n = 1024\n",
    "for k in range(2,9):\n",
    "    print(f\"For k={k}\")\n",
    "    print(f\"The expected length of the code is: {expected_lengths[k]}\")\n",
    "    print(f\"The actual length of the code is: {actual_lengths[k]}\")\n",
    "    print(f\"The difference between the expected and actual length is: {expected_lengths[k] - actual_lengths[k]}\")"
   ]
  },
  {
   "cell_type": "markdown",
   "id": "f7ea1df8",
   "metadata": {},
   "source": [
    "We observe that the differences between the expected and actual code length are consideratively small. Also, we can observe that for both cases the code length gets closer to the theoretical value, which is the entropy of 0.7219. Indeed, Huffman coding is more efficient when it has more symbols to work with (that allows it to better approximate the probabilities of various symbol sequences). It is important to note that Huffman coding may not always achieve the theoretical entropy, especially for finite chunk sizes and non-ideal probability distributions. The values obtained for the sampled binary string range between 0.6836 and 0.7559 bits, so they are around the theoretical entropy. "
   ]
  },
  {
   "cell_type": "markdown",
   "id": "331e5a5f",
   "metadata": {},
   "source": [
    "### 3. Entropy and Stochastic Process\n",
    "(there are 5 items in this question)\n",
    "Let $X \\sim Bernulli(p)$ and $Y \\sim Bernulli(q)$, $p \\neq q$. Let\n",
    "$$\n",
    "Z := X \\oplus Y ?\n",
    "$$\n",
    "- What is the distributio\n",
    "n of $Z$?"
   ]
  },
  {
   "cell_type": "markdown",
   "id": "2a7ddbff",
   "metadata": {},
   "source": [
    "#### <span style=\"color: LIGHTgreen;\">Answer</span>\n",
    "The distribution of $Z$ is $Z\\sim Bernulli(p + q - 2pq)$"
   ]
  },
  {
   "cell_type": "markdown",
   "id": "c8a114ec",
   "metadata": {},
   "source": [
    "- What is the entropy of $Z$? is it smaller or larger than $\\max\\{H(X), H(Y)\\}$?"
   ]
  },
  {
   "cell_type": "markdown",
   "id": "bb70a843",
   "metadata": {},
   "source": [
    "#### <span style=\"color: LIGHTgreen;\">Answer</span>\n",
    "Let\n",
    "$$\n",
    "H(P) = -[p\\log_2(p) + (1 - p)\\log_2(1-p)] \n",
    "$$ \n",
    "Now using $p + q -2pq$ for $p$:\n",
    "$$\n",
    "H(Z) = - [(p + q - 2pq)\\log_2(p + q - 2pq) + (1 - p - q + 2pq)\\log_2(1 - p - q + 2pq)]\n",
    "$$\n",
    "$$\n",
    "H(X) = -[p\\log_2(p) + (1 - p)\\log_2(1 - p)]\n",
    "$$\n",
    "$$\n",
    "H(Y) = -[q\\log_2(q) + (1 - q)\\log_2(1 - q)]\n",
    "$$\n",
    "\n",
    "\n",
    "Now, comparing $H(Z)$ with $\\max\\{H(X), H(Y)\\}$, we observe that $H(Z)$ is larger than both $H(X)$ and $H(Y)$. This is because the XOR operation introduces additional uncertainty or randomness compared to individual Bernoulli variables $X$ and $Y$. Therefore, the entropy of $$ is greater than the maximum entropy among $X$ and $Y$, indicating that $Z$ is a more unpredictable random variable than either $X$ or $Y$ alone and therefore, $H(Z)$ is bigger than $H(X)$ and $H(Y)$."
   ]
  },
  {
   "cell_type": "markdown",
   "id": "83fad9e6",
   "metadata": {},
   "source": [
    "Let $W^n \\simiid Bernulli(p)$. Consider the following stochastic process:\n",
    "$$\n",
    "X_1 \\sim Bernulli(q),\n",
    "$$\n",
    "$$\n",
    "X_{n+1} = X_n \\oplus W_{n+1}, \\quad n \\geq 1.\n",
    "$$\n",
    "($\\oplus$ is addition modulo 2 or the XOR operation)\n",
    "- Is $X^n$ a Markov chain? If yes, find its stationary distribution."
   ]
  },
  {
   "cell_type": "markdown",
   "id": "3c5669d2",
   "metadata": {},
   "source": [
    "#### <span style=\"color: LIGHTgreen;\">Answer</span>\n",
    "The conditional probability $P(X_{n+1} = 1 | X_n = x) $ for $x$ = 1, 0\n",
    "\n",
    "Given that $X_{n+1} = X_n \\oplus W_{n+1}$:\n",
    "$$\n",
    "P(X_{n+1} = 1 | X_n = 0) = P(W_{n+1} = 1) = p\n",
    "$$\n",
    "$$\n",
    "P(X_{n+1} = 0 | X_n = 1) = P(W_{n+1} = 1) = 1 - p\n",
    "$$\n",
    "\n",
    "The transition matrix is $P = \\begin{bmatrix} 1 - p & p \\\\\n",
    "\\ 1 - p & p\n",
    "\\end{bmatrix}$\n",
    "\n",
    "$X_n$ is a markov chain. so let $[\\pi_0, \\pi_1] $ be the stationary distribution.\n",
    "$$\n",
    "\\pi_0(1-p) +\\pi_1(1-p) = \\pi_0 + \\pi_0p + \\pi_1p = \\pi_1\n",
    "$$\n",
    "\n",
    "Now $\\pi_0p + \\pi_1p = \\pi_1$, $\\pi_0p = 0$. since $p \\neq 0$ and $\\pi_0 \\neq 0$ so $\\pi_1(1-p) = 0$\n",
    "\n",
    "Now if $\\pi_0 \\neq 1$ then $\\pi_1 \\neq 0$. however, of $\\pi_1 = 1$ so the stationary distribution is $[0,1]$"
   ]
  },
  {
   "cell_type": "markdown",
   "id": "344840ec",
   "metadata": {},
   "source": [
    "- If $X^n$ is a Markov chain, is it also ergodic?"
   ]
  },
  {
   "cell_type": "markdown",
   "id": "a80f7184",
   "metadata": {},
   "source": [
    "#### <span style=\"color: LIGHTgreen;\">Answer</span>\n",
    "A Markov chain is irreducible $P_01 = P_10$ = 1. A Markov chain is periodic if the gcd of the set of all possible return times to any state is 1. For $X_n$ the return times to each state is 2. The gcd = 2 which is not equal to 1. So $X_n$ is not a\n",
    "periodic."
   ]
  },
  {
   "cell_type": "markdown",
   "id": "58acaeb7",
   "metadata": {},
   "source": [
    "- Is $X^n$ a stationary process? (your answer may depend on $q$)"
   ]
  },
  {
   "cell_type": "markdown",
   "id": "93e4f1e0",
   "metadata": {},
   "source": [
    "#### <span style=\"color: LIGHTgreen;\">Answer</span>\n",
    "A stationary of $X_n$ as a process depend on the specfic value of $q$. If $q=0.5$, it may exhibit stationary but $q$ different from 0.5 so the process is not stationary."
   ]
  },
  {
   "cell_type": "markdown",
   "id": "10b64359",
   "metadata": {},
   "source": [
    "### 4. Compressing a Markov Process\n",
    "(there are 5 items in this question)\n",
    "In this question you will sample a sequence from a two-states Markov source and compress this sequence in a losslessly manner using several methods. The function ``sample_Markov_path`` below samples such a sequence. \n",
    "\n",
    "Use the transition matrix \n",
    "$$\n",
    "Q = \\begin{bmatrix} 1-\\alpha & \\alpha \\\\\n",
    "\\beta & 1- \\beta\n",
    "\\end{bmatrix}\n",
    "$$\n",
    "and vector of initial probabilities $\\begin{bmatrix} 1, 0 \\end{bmatrix}$ (namely, you begin at state $0$). \n"
   ]
  },
  {
   "cell_type": "code",
   "execution_count": 7,
   "id": "8b94a41f",
   "metadata": {},
   "outputs": [
    {
     "name": "stderr",
     "output_type": "stream",
     "text": [
      "C:\\Users\\benka\\anaconda3\\lib\\site-packages\\scipy\\__init__.py:146: UserWarning: A NumPy version >=1.16.5 and <1.23.0 is required for this version of SciPy (detected version 1.26.3\n",
      "  warnings.warn(f\"A NumPy version >={np_minversion} and <{np_maxversion}\"\n"
     ]
    }
   ],
   "source": [
    "import numpy as np\n",
    "from scipy.stats import multinomial\n",
    "from matplotlib import pyplot as plt\n",
    "\n",
    "SEED = 42\n",
    "\n",
    "def sample_Markov_path(Q: np.ndarray, initial_probs: np.ndarray, n: int)->np.ndarray:\n",
    "    \"\"\"\n",
    "    Sample from a path from a Markov chain\n",
    "    \n",
    "    Args:\n",
    "        :Q:  transition probability matrix\n",
    "        :initial_probs:  vector of probabilities of the initial state\n",
    "        :n:  length of sample path\n",
    "    \n",
    "    Return:\n",
    "        :xx:  sample from the Markov chain of length n\n",
    "        \n",
    "    \"\"\"\n",
    "\n",
    "    M = Q.shape[0]\n",
    "    xx = np.zeros((n,M))\n",
    "\n",
    "    prob_vec = initial_probs\n",
    "\n",
    "    for i in range(n):\n",
    "        xx[i] = multinomial.rvs(p=prob_vec, n=1, random_state=SEED+i)\n",
    "        prob_vec = xx[i] @ Q\n",
    "\n",
    "    return np.argmax(xx, 1)\n",
    "\n"
   ]
  },
  {
   "cell_type": "markdown",
   "id": "e7f3a74e",
   "metadata": {},
   "source": [
    "A short sample from the Markov chain (set $n = 2^{14}$ when solving the assignment):"
   ]
  },
  {
   "cell_type": "code",
   "execution_count": 8,
   "id": "1d31dedc",
   "metadata": {},
   "outputs": [
    {
     "name": "stdout",
     "output_type": "stream",
     "text": [
      "[0 0 0 1 1 1 1 1 1 1 1 1 1 1 0 0 0 1 1 1 1 1 1 1 1 1 1 1 0 0 0 0 0 0 0 1 1\n",
      " 1 1 1 1 1 1 1 1 1 1 1 1 1 0 0 0 0 0 0 0 0 0 0 0 0 0 0 0 0 0 0 0 0 0 0 0 0\n",
      " 0 0 1 1 1 1 1 1 1 1 1 1 0 0 0 0 0 0 0 0 0 1 1 1 1 0]\n"
     ]
    }
   ],
   "source": [
    "alpha = 0.1\n",
    "beta = 0.15\n",
    "\n",
    "Q = np.array([\n",
    "    [1-alpha, alpha],\n",
    "    [beta, 1-beta] \n",
    "])\n",
    "\n",
    "initial_probs = [1, 0]  # start at state 0\n",
    "X = sample_Markov_path(Q, initial_probs, n = 100)\n",
    "\n",
    "print(X)"
   ]
  },
  {
   "cell_type": "markdown",
   "id": "48cec069",
   "metadata": {},
   "source": [
    "**(1) What is the entropy rate of this process? is it smaller or larger than the entropy of the stationary distribution?**"
   ]
  },
  {
   "cell_type": "markdown",
   "id": "27b042a2",
   "metadata": {},
   "source": [
    "#### <span style=\"color: LIGHTgreen;\">Answer</span>\n"
   ]
  },
  {
   "cell_type": "code",
   "execution_count": 9,
   "id": "e528e6b2",
   "metadata": {},
   "outputs": [
    {
     "name": "stdout",
     "output_type": "stream",
     "text": [
      "The stationary distribution of the Markov chain is [0.6 0.4]\n",
      "The entropy rate of the Markov chain is 0.5253334780401289 bits\n",
      "The entropy of the stationary distribution is 0.9709505944546688 bits\n"
     ]
    }
   ],
   "source": [
    "# Solving pi * Q = pi, with the condition that sum of pi = 1\n",
    "pi = np.linalg.solve(np.transpose(Q) - np.eye(2) + np.ones((2,2)), np.ones(2))\n",
    "pi /= np.sum(pi)\n",
    "\n",
    "# Compute the entropy rate of the Markov process\n",
    "entropy_rate = -np.sum(pi[:, np.newaxis] * Q * np.log2(Q))\n",
    "\n",
    "# Compute the entropy of the stationary distribution\n",
    "entropy_stationary = -np.sum(pi * np.log2(pi))\n",
    "\n",
    "print(f\"The stationary distribution of the Markov chain is {pi}\")\n",
    "print(f\"The entropy rate of the Markov chain is {entropy_rate} bits\")\n",
    "print(f\"The entropy of the stationary distribution is {entropy_stationary} bits\")"
   ]
  },
  {
   "cell_type": "markdown",
   "id": "15cc249f",
   "metadata": {},
   "source": [
    "The entropy rate is smaller than the entropy of the stationary distribution."
   ]
  },
  {
   "cell_type": "markdown",
   "id": "36fcbe02",
   "metadata": {},
   "source": [
    "**(2) With $\\alpha=.1$ and $\\beta=.15$, generate a binary string of length $n=2^{14}$ from this Markov chain (using the function ``sample_Markov_path``). What is the fraction of times you spent at each state? Verify that this fraction matched more or less the stationary distribution.**"
   ]
  },
  {
   "cell_type": "markdown",
   "id": "03d72371",
   "metadata": {},
   "source": [
    "#### <span style=\"color: LIGHTgreen;\">Answer</span>\n"
   ]
  },
  {
   "cell_type": "code",
   "execution_count": 10,
   "id": "be2519c9",
   "metadata": {},
   "outputs": [
    {
     "name": "stdout",
     "output_type": "stream",
     "text": [
      "The fraction of time spent in each state is [0.58355713 0.41644287]\n"
     ]
    }
   ],
   "source": [
    "# Length of the binary string\n",
    "n = 2**14\n",
    "\n",
    "# Generate the binary string from the Markov chain\n",
    "X = sample_Markov_path(Q, initial_probs, n)\n",
    "\n",
    "# Calculate the fraction of time spent in each state\n",
    "fraction_per_state = np.array([np.sum(X == state) / n for state in range(2)])\n",
    "print(f\"The fraction of time spent in each state is {fraction_per_state}\")"
   ]
  },
  {
   "cell_type": "markdown",
   "id": "5fbe0731",
   "metadata": {},
   "source": [
    "For a binary string of length $2^{14}$ the fraction of time spent in each state is $[0.5835 , 0.4164]$. This result is very close to the stationary distribution calculated in (1) was $\\pi = [0.6 , 0.4]$. Hence, over a large number of steps, the Markov chain indeed spends roughly 60% of the time in state 0 and 40% of the time in state 1 as predicted by the stationary distribution."
   ]
  },
  {
   "cell_type": "markdown",
   "id": "ba6baf64",
   "metadata": {},
   "source": [
    "**(3) Compress the binary string using a Huffman code for tuples of 8 symbols (one byte), i.e., consider the tensorized source with $K=8$. Estimate tuple frequencies either from the data (easier) or directly from the model. Plot the frequencies of the $2^K$ tuples. Can you anticipate the compression rate (``bits_compressed`` / ``bits_original``) without actually do the encoding?**  "
   ]
  },
  {
   "cell_type": "markdown",
   "id": "5660052c",
   "metadata": {},
   "source": [
    "#### <span style=\"color: LIGHTgreen;\">Answer</span>\n"
   ]
  },
  {
   "cell_type": "code",
   "execution_count": 11,
   "id": "00142cdd",
   "metadata": {},
   "outputs": [
    {
     "name": "stdout",
     "output_type": "stream",
     "text": [
      "The probability of each chunk is [0.27050781 0.03710938 0.00390625 0.02832031 0.00488281 0.00048828\n",
      " 0.00585938 0.02490234 0.00292969 0.00439453 0.00048828 0.00683594\n",
      " 0.02978516 0.00683594 0.00048828 0.00634766 0.00048828 0.00146484\n",
      " 0.00390625 0.00439453 0.03027344 0.00390625 0.00048828 0.00048828\n",
      " 0.00390625 0.00048828 0.00048828 0.00488281 0.00048828 0.00097656\n",
      " 0.00439453 0.00048828 0.00439453 0.02587891 0.00585938 0.00048828\n",
      " 0.00048828 0.00048828 0.00048828 0.00097656 0.00634766 0.00048828\n",
      " 0.00048828 0.00048828 0.00097656 0.00488281 0.00097656 0.00048828\n",
      " 0.00048828 0.00488281 0.00048828 0.00097656 0.00244141 0.00341797\n",
      " 0.0234375  0.02734375 0.00195312 0.00195312 0.00390625 0.00048828\n",
      " 0.00244141 0.00097656 0.00048828 0.00341797 0.00195312 0.00292969\n",
      " 0.00146484 0.00097656 0.00048828 0.00048828 0.00048828 0.00048828\n",
      " 0.00048828 0.00146484 0.02734375 0.00390625 0.00048828 0.00537109\n",
      " 0.00048828 0.00244141 0.00097656 0.00097656 0.00048828 0.00292969\n",
      " 0.00097656 0.00048828 0.00195312 0.02880859 0.00292969 0.00585938\n",
      " 0.00097656 0.00048828 0.00341797 0.00146484 0.00048828 0.00097656\n",
      " 0.00488281 0.03222656 0.00292969 0.00195312 0.00488281 0.00048828\n",
      " 0.00048828 0.00195312 0.02685547 0.00244141 0.00097656 0.00390625\n",
      " 0.02050781 0.00341797 0.0234375  0.13427734]\n",
      "The probability of each chunk is {'00000000': 0.2705078125, '00000001': 0.037109375, '00000010': 0.00390625, '00000011': 0.0283203125, '00000100': 0.0048828125, '00000101': 0.00048828125, '00000110': 0.005859375, '00000111': 0.02490234375, '00001000': 0.0029296875, '00001100': 0.00439453125, '00001101': 0.00048828125, '00001110': 0.0068359375, '00001111': 0.02978515625, '00010000': 0.0068359375, '00010111': 0.00048828125, '00011000': 0.00634765625, '00011001': 0.00048828125, '00011011': 0.00146484375, '00011100': 0.00390625, '00011110': 0.00439453125, '00011111': 0.0302734375, '00100000': 0.00390625, '00100011': 0.00048828125, '00101111': 0.00048828125, '00110000': 0.00390625, '00110110': 0.00048828125, '00110111': 0.00048828125, '00111000': 0.0048828125, '00111001': 0.00048828125, '00111011': 0.0009765625, '00111100': 0.00439453125, '00111101': 0.00048828125, '00111110': 0.00439453125, '00111111': 0.02587890625, '01000000': 0.005859375, '01000001': 0.00048828125, '01000111': 0.00048828125, '01001111': 0.00048828125, '01011000': 0.00048828125, '01011111': 0.0009765625, '01100000': 0.00634765625, '01100001': 0.00048828125, '01100011': 0.00048828125, '01100101': 0.00048828125, '01101111': 0.0009765625, '01110000': 0.0048828125, '01110001': 0.0009765625, '01110011': 0.00048828125, '01110111': 0.00048828125, '01111000': 0.0048828125, '01111001': 0.00048828125, '01111011': 0.0009765625, '01111100': 0.00244140625, '01111110': 0.00341796875, '01111111': 0.0234375, '10000000': 0.02734375, '10000001': 0.001953125, '10000010': 0.001953125, '10000011': 0.00390625, '10000100': 0.00048828125, '10000111': 0.00244140625, '10001100': 0.0009765625, '10001110': 0.00048828125, '10001111': 0.00341796875, '10010000': 0.001953125, '10011111': 0.0029296875, '10100000': 0.00146484375, '10110000': 0.0009765625, '10110001': 0.00048828125, '10111000': 0.00048828125, '10111001': 0.00048828125, '10111011': 0.00048828125, '10111100': 0.00048828125, '10111111': 0.00146484375, '11000000': 0.02734375, '11000001': 0.00390625, '11000010': 0.00048828125, '11000011': 0.00537109375, '11000100': 0.00048828125, '11000111': 0.00244140625, '11001000': 0.0009765625, '11001100': 0.0009765625, '11001110': 0.00048828125, '11001111': 0.0029296875, '11010000': 0.0009765625, '11011100': 0.00048828125, '11011111': 0.001953125, '11100000': 0.02880859375, '11100001': 0.0029296875, '11100011': 0.005859375, '11100100': 0.0009765625, '11100110': 0.00048828125, '11100111': 0.00341796875, '11101000': 0.00146484375, '11101100': 0.00048828125, '11101110': 0.0009765625, '11101111': 0.0048828125, '11110000': 0.0322265625, '11110001': 0.0029296875, '11110010': 0.001953125, '11110011': 0.0048828125, '11110100': 0.00048828125, '11110101': 0.00048828125, '11110111': 0.001953125, '11111000': 0.02685546875, '11111001': 0.00244140625, '11111010': 0.0009765625, '11111011': 0.00390625, '11111100': 0.0205078125, '11111101': 0.00341796875, '11111110': 0.0234375, '11111111': 0.13427734375}\n"
     ]
    }
   ],
   "source": [
    "# Create chunks of lenght 8 from X and from that calculate the probability of each chunk\n",
    "num_words = len(X) // 8\n",
    "\n",
    "chunks = X.reshape(num_words, 8)\n",
    "\n",
    "# Convert to a list of strings\n",
    "chunks = [''.join(map(str, chunk)) for chunk in chunks]\n",
    "\n",
    "# Use np.unique to count the number of occurences of each chunk\n",
    "unique_words, counts = np.unique(chunks, return_counts=True)\n",
    "\n",
    "# Calculate the probability of each chunk\n",
    "probs = counts / num_words\n",
    "\n",
    "# Convert probabilities to a dictionary\n",
    "probabilities_X = {''.join(map(str, word)): prob for word, prob in zip(unique_words, probs)}\n",
    "\n",
    "print(f\"The probability of each chunk is {probs}\")\n",
    "print(f\"The probability of each chunk is {probabilities_X}\")"
   ]
  },
  {
   "cell_type": "code",
   "execution_count": 12,
   "id": "37ad53ea",
   "metadata": {},
   "outputs": [
    {
     "name": "stdout",
     "output_type": "stream",
     "text": [
      "The length of the original binary string is 16384 bits\n",
      "The length of the encoded binary string is 9516 bits\n",
      "The difference in length is 6868 bits\n"
     ]
    }
   ],
   "source": [
    "# Binary string generated previously is called X\n",
    "# Constants\n",
    "k = 8\n",
    "\n",
    "# Generate Huffman codes\n",
    "huffman_codes = huffman_code(probabilities_X)\n",
    "\n",
    "# Function to encode a list of symbols\n",
    "def encode_Huffman(X, huffman_codes, k):\n",
    "    encoded_string = ''\n",
    "    for i in range(0, len(X)-k, k):\n",
    "        chunk = X[i:i+k]\n",
    "\n",
    "        # If the last chunk is smaller than k, pad it with 0s\n",
    "        #if len(chunk) == k:\n",
    "            # Encode the chunk using the Huffman codes\n",
    "        encoded_string += huffman_codes[''.join(map(str, chunk))]\n",
    "    return encoded_string\n",
    "\n",
    "# Encode the binary string\n",
    "encoded_string = encode_Huffman(X, huffman_codes, k=8)\n",
    "len_encoded_string = len(encoded_string)\n",
    "\n",
    "# Compare lengths (original and encoded)\n",
    "print(f\"The length of the original binary string is {len(X)} bits\")\n",
    "print(f\"The length of the encoded binary string is {len_encoded_string} bits\")\n",
    "print(f\"The difference in length is {len(X) - len_encoded_string} bits\")"
   ]
  },
  {
   "cell_type": "markdown",
   "id": "56ad357d",
   "metadata": {},
   "source": [
    "When compressing the generated binary string using the Huffman code with tuples of 8 symbols, the message is 6868 bits smaller."
   ]
  },
  {
   "cell_type": "code",
   "execution_count": 13,
   "id": "c4f323da",
   "metadata": {},
   "outputs": [
    {
     "data": {
      "image/png": "[encoded data removed]",
      "text/plain": [
       "<Figure size 936x504 with 1 Axes>"
      ]
     },
     "metadata": {
      "needs_background": "light"
     },
     "output_type": "display_data"
    }
   ],
   "source": [
    "# Function to estimate tuple frequencies from the data\n",
    "def estimate_tuple_frequencies(X, k):\n",
    "    # Initialize the dictionary with all possible tuples of length k\n",
    "    tuples = list(itertools.product([0, 1], repeat=k))\n",
    "    tuple_frequencies = {tuple_: 0 for tuple_ in tuples}\n",
    "\n",
    "    # Count the number of occurrences of each tuple in the data\n",
    "    for i in range(len(X) - k + 1):\n",
    "        tuple_ = tuple(X[i:i+k])\n",
    "        tuple_frequencies[tuple_] += 1\n",
    "    return tuple_frequencies\n",
    "\n",
    "# Estimate tuple frequencies for k = 8\n",
    "tuple_frequencies = estimate_tuple_frequencies(X, k=8)\n",
    "\n",
    "# Plot the tuple frequencies\n",
    "plt.figure(figsize=(13, 7))\n",
    "plt.bar(range(len(tuple_frequencies)), tuple_frequencies.values())\n",
    "plt.xlabel('Tuple')\n",
    "plt.ylabel('Frequency')\n",
    "plt.title('Tuple Frequencies')\n",
    "plt.show()\n"
   ]
  },
  {
   "cell_type": "code",
   "execution_count": 14,
   "id": "5c892817",
   "metadata": {},
   "outputs": [
    {
     "data": {
      "image/png": "[encoded data removed]",
      "text/plain": [
       "<Figure size 1728x720 with 1 Axes>"
      ]
     },
     "metadata": {
      "needs_background": "light"
     },
     "output_type": "display_data"
    }
   ],
   "source": [
    "import numpy as np\n",
    "import matplotlib.pyplot as plt\n",
    "\n",
    "# Take the unique words and plot their frequencies\n",
    "unique_words, counts = np.unique(chunks, return_counts=True)\n",
    "\n",
    "plt.figure(figsize=(24, 10))\n",
    "\n",
    "# Use the unique words as x-tick labels\n",
    "plt.bar(range(len(unique_words)), counts)\n",
    "plt.xticks(range(len(unique_words)), unique_words, rotation=90)  # Rotate labels for better readability\n",
    "\n",
    "plt.xlabel('Word')\n",
    "plt.ylabel('Frequency')\n",
    "plt.title('Word Frequencies')\n",
    "plt.show()\n"
   ]
  },
  {
   "cell_type": "markdown",
   "id": "2add86bf",
   "metadata": {},
   "source": [
    "The graph \"Tuple Frequencies\" represents the frquencies of each 8-bit tuple in the binary string X (previously generated). Each bar in the graph corresponds to one of the possible 256 unique tuples that can be formed with 8 bits. More specifically, the graph \"Word Frequencies\" shows the frequency of each unique word that was sampled from X. For both cases, we can observe that the frequencies of the tuples are not uniform, meaning some sequences are more likely than others. The tuples with the tallest bars are the most frequent and will therefore we assigned a shorter code to achieve compression."
   ]
  },
  {
   "cell_type": "markdown",
   "id": "b3090326",
   "metadata": {},
   "source": [
    "The compression rate can be calculated without performing the actual encoding by calculating the expected length of the Huffman encoded data based on the frequencies of the tuples:\n",
    "$$\\text{Compression rate} = \\frac{\\text{expected length}}{\\text{original length}}$$\n",
    "The entropy is the expected length of each compressed word, so to find the compression rate without doing any encoding we can sum all entropies obtained from all probabilities of the sample and divide such value by the length of each word, which in this case is 8."
   ]
  },
  {
   "cell_type": "code",
   "execution_count": 15,
   "id": "bff8bb9b",
   "metadata": {},
   "outputs": [
    {
     "name": "stdout",
     "output_type": "stream",
     "text": [
      "The entropy of the binary string is 4.632888076487937 bits\n",
      "The compression rate is 0.5791110095609922\n"
     ]
    }
   ],
   "source": [
    "# Calculate the entropy of the binary string X\n",
    "entropy_X = -np.sum(probs * np.log2(probs))\n",
    "print(f\"The entropy of the binary string is {entropy_X} bits\")\n",
    "\n",
    "# Compression rate\n",
    "compression_rate = entropy_X / 8\n",
    "print(f\"The compression rate is {compression_rate}\")"
   ]
  },
  {
   "cell_type": "markdown",
   "id": "b5ab6198",
   "metadata": {},
   "source": [
    "**(4) Compress the binary string using Run Length Encoding (RLE) with a maximal stretch of $2^k$. Namely, for $k=3$, the string 000001100011111111.... is encoded as (0,4), (1,1), (0,2), (1,7)..., which is then encoded as (0,100), (1,001), (0,010), (1,111), which is then encoded as 0100 1001 0010 1111 (each stretch of \"1\"s or \"0\"s is encoded using $1+k$ bits. We subtract one from the length of the stretch because there are no stretches of length 0). Stretches longer than $2^k$ are separated into a stretch of $2^k$ and the remainder. Experiment with values of $k$ between 2-8 and report the compression rate for each $k$. Which $k$ attains the best compression rate?**"
   ]
  },
  {
   "cell_type": "markdown",
   "id": "63bdaa91",
   "metadata": {},
   "source": [
    "#### <span style=\"color: LIGHTgreen;\">Answer</span>"
   ]
  },
  {
   "cell_type": "code",
   "execution_count": 16,
   "id": "099c8e2c",
   "metadata": {},
   "outputs": [
    {
     "name": "stdout",
     "output_type": "stream",
     "text": [
      " For k=2 the compression rate is 0.90252685546875\n",
      " For k=3 the compression rate is 0.751953125\n",
      " For k=4 the compression rate is 0.69427490234375\n",
      " For k=5 the compression rate is 0.740478515625\n",
      " For k=6 the compression rate is 0.8502197265625\n",
      " For k=7 the compression rate is 0.97119140625\n",
      " For k=8 the compression rate is 1.09259033203125\n"
     ]
    }
   ],
   "source": [
    "# RLE algorithm\n",
    "def RLE_encode(binary_string, k):\n",
    "    encoded_string = ''\n",
    "    count = 0\n",
    "    prev_char = binary_string[0]\n",
    "\n",
    "    for char in binary_string:\n",
    "        if char == prev_char:\n",
    "            count += 1\n",
    "            # Check if we need to split the run into a chunk\n",
    "            if count == 2**k:\n",
    "                encoded_string += f'{prev_char}{bin(count-1)[2:].zfill(k)}'\n",
    "                count = 0\n",
    "        else:\n",
    "            # Encode the remaining part of the run if count is not zero\n",
    "            if count > 0:\n",
    "                encoded_string += f'{prev_char}{bin(count-1)[2:].zfill(k)}'\n",
    "            prev_char = char\n",
    "            count = 1\n",
    "\n",
    "    # Encode the last run if count is not zero\n",
    "    if count > 0:\n",
    "        encoded_string += f'{prev_char}{bin(count-1)[2:].zfill(k)}'\n",
    "\n",
    "    return encoded_string\n",
    "\n",
    "# Calculate the compression rate of the binary string X using RLE for k = 2, 3, 4, 5, 6, 7, 8\n",
    "for k in range(2, 9):\n",
    "    # Encode the binary string using RLE\n",
    "    encoded_string = RLE_encode(X, k)\n",
    "\n",
    "    # Calculate the compression rate\n",
    "    compression_rate = len(encoded_string) / (len(X))\n",
    "\n",
    "    # Print the compression rate for k in [2, 8]\n",
    "    print(f\" For k={k} the compression rate is {compression_rate}\")"
   ]
  },
  {
   "cell_type": "markdown",
   "id": "7076f9b3",
   "metadata": {},
   "source": [
    "We can observe that as $k$ increases, the compression rate decreases and reaches its lowest point for $k=4$ to then increase again. Therefore, for this binary string, the optimal value of $k$ is $4$ since it minimizes the compression rate and thus maximizes compression efficiency. Indeed, the smaller the compression rate, the shorter the encoded string is in respect to the original string and therefore effective compression is achieved. We can observe that for $k=8$ the compression rate is bigger than 1, which suggests that the encoded string is longer than the original string."
   ]
  },
  {
   "cell_type": "markdown",
   "id": "23b430cb",
   "metadata": {},
   "source": [
    "**(5) Bonus: Can you think about a way to improve the proposed RLE?**"
   ]
  },
  {
   "cell_type": "markdown",
   "id": "2d147d3b",
   "metadata": {},
   "source": [
    "#### <span style=\"color: LIGHTgreen;\">Answer</span>\n",
    "One option to improve the proposed RLE would be to implement a two-level RLE. This implies that the first level compresses the data (original string) and the second level compresses the output of the first level. This approach can yield better results in terms of the compression rate for cases in which there are nested repetitive patterns."
   ]
  },
  {
   "cell_type": "code",
   "execution_count": null,
   "id": "90cbb95e",
   "metadata": {},
   "outputs": [],
   "source": []
  }
 ],
 "metadata": {
  "kernelspec": {
   "display_name": "Python 3 (ipykernel)",
   "language": "python",
   "name": "python3"
  },
  "language_info": {
   "codemirror_mode": {
    "name": "ipython",
    "version": 3
   },
   "file_extension": ".py",
   "mimetype": "text/x-python",
   "name": "python",
   "nbconvert_exporter": "python",
   "pygments_lexer": "ipython3",
   "version": "3.9.12"
  }
 },
 "nbformat": 4,
 "nbformat_minor": 5
}
